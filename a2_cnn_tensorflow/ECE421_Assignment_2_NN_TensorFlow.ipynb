{
  "nbformat": 4,
  "nbformat_minor": 0,
  "metadata": {
    "colab": {
      "name": "ECE421 Assignment 2 NN TensorFlow",
      "provenance": [],
      "collapsed_sections": []
    },
    "kernelspec": {
      "name": "python3",
      "display_name": "Python 3"
    }
  },
  "cells": [
    {
      "cell_type": "code",
      "metadata": {
        "id": "kXaY5vZSWuj9",
        "colab_type": "code",
        "outputId": "d4ebb611-ead4-428b-bda2-0e47f51eddef",
        "colab": {
          "base_uri": "https://localhost:8080/",
          "height": 81
        }
      },
      "source": [
        "# Importing all the modules that we need:\n",
        "\n",
        "import tensorflow as tf \n",
        "from keras.utils import to_categorical\n",
        "import numpy as np\n",
        "import matplotlib.pyplot as plt\n",
        "import time\n",
        "import os\n",
        "os.environ['TF_CPP_MIN_LOG_LEVEL'] = '3'"
      ],
      "execution_count": 0,
      "outputs": [
        {
          "output_type": "display_data",
          "data": {
            "text/html": [
              "<p style=\"color: red;\">\n",
              "The default version of TensorFlow in Colab will soon switch to TensorFlow 2.x.<br>\n",
              "We recommend you <a href=\"https://www.tensorflow.org/guide/migrate\" target=\"_blank\">upgrade</a> now \n",
              "or ensure your notebook will continue to use TensorFlow 1.x via the <code>%tensorflow_version 1.x</code> magic:\n",
              "<a href=\"https://colab.research.google.com/notebooks/tensorflow_version.ipynb\" target=\"_blank\">more info</a>.</p>\n"
            ],
            "text/plain": [
              "<IPython.core.display.HTML object>"
            ]
          },
          "metadata": {
            "tags": []
          }
        },
        {
          "output_type": "stream",
          "text": [
            "Using TensorFlow backend.\n"
          ],
          "name": "stderr"
        }
      ]
    },
    {
      "cell_type": "code",
      "metadata": {
        "id": "U2zVZzrLYeF_",
        "colab_type": "code",
        "colab": {}
      },
      "source": [
        "# Load the data:\n",
        "\n",
        "def loadData():\n",
        "    with np.load(\"notMNIST.npz\") as data:\n",
        "        Data, Target = data[\"images\"], data[\"labels\"]\n",
        "        np.random.seed(521)\n",
        "        randIndx = np.arange(len(Data))\n",
        "        np.random.shuffle(randIndx)\n",
        "        Data = Data[randIndx] / 255.0\n",
        "        Target = Target[randIndx]\n",
        "        trainData, trainTarget = Data[:10000], Target[:10000]\n",
        "        validData, validTarget = Data[10000:16000], Target[10000:16000]\n",
        "        testData, testTarget = Data[16000:], Target[16000:]\n",
        "    return trainData, validData, testData, trainTarget, validTarget, testTarget"
      ],
      "execution_count": 0,
      "outputs": []
    },
    {
      "cell_type": "code",
      "metadata": {
        "id": "eVUaH49wYjlR",
        "colab_type": "code",
        "colab": {}
      },
      "source": [
        "# Getting the training set and reshaping them based on their individual images based on their size:\n",
        "\n",
        "trainData, validData, testData, trainTarget, validTarget, testTarget = loadData()\n",
        "trainData = trainData.reshape(-1,28,28,1) # Reshaping the images to be in their visual dimensions.\n",
        "testData = testData.reshape(-1,28,28,1)\n",
        "validData = validData.reshape(-1,28,28,1)"
      ],
      "execution_count": 0,
      "outputs": []
    },
    {
      "cell_type": "code",
      "metadata": {
        "id": "EHo74VMl7aJi",
        "colab_type": "code",
        "colab": {}
      },
      "source": [
        "# One-hot encoding for the training, validation, and test labels:\n",
        "\n",
        "trainTarget = to_categorical(trainTarget) \n",
        "testTarget = to_categorical(testTarget)\n",
        "validTarget = to_categorical(validTarget)"
      ],
      "execution_count": 0,
      "outputs": []
    },
    {
      "cell_type": "code",
      "metadata": {
        "id": "Oxukr1ypZ4ui",
        "colab_type": "code",
        "outputId": "2c91c543-7f93-4f08-95ed-d72ef7e57add",
        "colab": {
          "base_uri": "https://localhost:8080/",
          "height": 34
        }
      },
      "source": [
        "# The CNN model:\n",
        "\n",
        "model = tf.keras.models.Sequential()\n",
        "# 32 (3 x 3) kernels are used with ReLU. 'SAME' method was used for padding. Kernel weights and bias are initialized as Xavier.\n",
        "model.add(tf.keras.layers.Conv2D(32, (3, 3), strides = (1,1), padding='same', activation='relu', kernel_initializer = tf.keras.initializers.glorot_normal(), input_shape=(28,28,1)))\n",
        "model.add(tf.keras.layers.BatchNormalization()) # Normalizes the output to prevent unwanted biases.\n",
        "model.add(tf.keras.layers.MaxPooling2D((2, 2))) # (2 x 2) Max-Pooling kernels.\n",
        "model.add(tf.keras.layers.Flatten()) # Flattens images for the fully-connected layers.\n",
        "model.add(tf.keras.layers.Dense(784, activation='relu')) # ReLU is used for each of the 784 neurons in the 1st fully connected layer.\n",
        "model.add(tf.keras.layers.Dropout(0.9)) # Dropout of 90% probability.\n",
        "model.add(tf.keras.layers.Dense(10)) # 2nd fully-connected layer.\n",
        "model.add(tf.keras.layers.Softmax()) # Softmax function for predictions."
      ],
      "execution_count": 0,
      "outputs": [
        {
          "output_type": "stream",
          "text": [
            "WARNING:tensorflow:Large dropout rate: 0.75 (>0.5). In TensorFlow 2.x, dropout() uses dropout rate instead of keep_prob. Please ensure that this is intended.\n"
          ],
          "name": "stdout"
        }
      ]
    },
    {
      "cell_type": "code",
      "metadata": {
        "id": "t0Nk7Tu1A48E",
        "colab_type": "code",
        "colab": {}
      },
      "source": [
        "# Setting hyperparameters:\n",
        "\n",
        "batchsize = 32 # Batch size\n",
        "epochs = 50\n",
        "l_r = 1e-04 # Learning rate"
      ],
      "execution_count": 0,
      "outputs": []
    },
    {
      "cell_type": "code",
      "metadata": {
        "id": "E4q4AjT0Z6HZ",
        "colab_type": "code",
        "colab": {}
      },
      "source": [
        "# Setting the optimization method:\n",
        "\n",
        "opt = 'ADAM'\n",
        "opt_SGD = tf.keras.optimizers.SGD(learning_rate = 1e-04)\n",
        "opt_adam = tf.keras.optimizers.Adam(learning_rate = 1e-04) # Adam optimizer is used.\n",
        "\n",
        "if opt == 'SGD':\n",
        "  optimizer = opt_SGD\n",
        "elif opt == 'ADAM':\n",
        "  optimizer = opt_adam"
      ],
      "execution_count": 0,
      "outputs": []
    },
    {
      "cell_type": "code",
      "metadata": {
        "id": "kx2cdqG9wHVy",
        "colab_type": "code",
        "colab": {}
      },
      "source": [
        "# Defining the loss function:\n",
        "\n",
        "ce_loss = tf.keras.losses.categorical_crossentropy # Cross Entropy Loss is used."
      ],
      "execution_count": 0,
      "outputs": []
    },
    {
      "cell_type": "code",
      "metadata": {
        "id": "UUqI9Kz8_001",
        "colab_type": "code",
        "colab": {}
      },
      "source": [
        "# Compiling the model together:\n",
        "\n",
        "model.compile(optimizer=optimizer, loss=ce_loss, metrics=['accuracy'])"
      ],
      "execution_count": 0,
      "outputs": []
    },
    {
      "cell_type": "code",
      "metadata": {
        "id": "-pNPnCyzBP7G",
        "colab_type": "code",
        "colab": {}
      },
      "source": [
        "# The callback objected used to produce the loss and accuracy curves for the testing set. Based on the Keras source code.\n",
        "\n",
        "Callback = tf.keras.callbacks.History\n",
        "class TestSets(Callback):\n",
        "    def __init__(self, test_sets):\n",
        "        \n",
        "        super(TestSets, self).__init__()\n",
        "        self.test_sets = test_sets\n",
        "        self.epoch = []\n",
        "        self.history = {}\n",
        "\n",
        "    def on_train_begin(self, logs=None):\n",
        "        self.epoch = []\n",
        "        self.history = {}\n",
        "\n",
        "    def on_epoch_end(self, epoch, logs=None):\n",
        "        logs = logs or {}\n",
        "        self.epoch.append(epoch)\n",
        "\n",
        "        for k, v in logs.items():\n",
        "            self.history.setdefault(k, []).append(v)\n",
        "\n",
        "        for test_set in self.test_sets:\n",
        "            test_data, test_targets = test_set # Unpacks the target and data.\n",
        "\n",
        "            results = self.model.evaluate(x=test_data, y=test_targets, batch_size=32) # Evaluates at the end of each epoch.\n",
        "\n",
        "            for i, result in enumerate(results):\n",
        "                if i == 0:\n",
        "                    valuename = 'test_loss' # Identifies the test loss.\n",
        "                else:\n",
        "                    valuename = 'test_accuracy' # Identifies the test accuracy.\n",
        "                self.history.setdefault(valuename, []).append(result) # Loading the test loss and accuracies."
      ],
      "execution_count": 0,
      "outputs": []
    },
    {
      "cell_type": "code",
      "metadata": {
        "id": "5HjJmVfUMUiD",
        "colab_type": "code",
        "colab": {}
      },
      "source": [
        "history = TestSets([(testData, testTarget)])"
      ],
      "execution_count": 0,
      "outputs": []
    },
    {
      "cell_type": "code",
      "metadata": {
        "id": "dMapND2PDUrw",
        "colab_type": "code",
        "outputId": "a469770d-080a-4030-a74e-49ec3c0f5775",
        "colab": {
          "base_uri": "https://localhost:8080/",
          "height": 1000
        }
      },
      "source": [
        "# Training Loop:\n",
        "\n",
        "model.fit(x=trainData ,y=trainTarget , batch_size=32, epochs=50, callbacks=[history] ,validation_data=(validData, validTarget), shuffle=True, initial_epoch=0) "
      ],
      "execution_count": 0,
      "outputs": [
        {
          "output_type": "stream",
          "text": [
            "Train on 10000 samples, validate on 6000 samples\n",
            "Epoch 1/50\n",
            "2724/2724 [==============================] - 2s 568us/sample - loss: 0.7247 - acc: 0.8972\n",
            "10000/10000 [==============================] - 29s 3ms/sample - loss: 0.7417 - acc: 0.7884 - val_loss: 0.7280 - val_acc: 0.8993\n",
            "Epoch 2/50\n",
            "2724/2724 [==============================] - 2s 573us/sample - loss: 0.2885 - acc: 0.9196\n",
            "10000/10000 [==============================] - 29s 3ms/sample - loss: 0.3653 - acc: 0.8962 - val_loss: 0.2921 - val_acc: 0.9173\n",
            "Epoch 3/50\n",
            "2724/2724 [==============================] - 2s 574us/sample - loss: 0.2662 - acc: 0.9244\n",
            "10000/10000 [==============================] - 29s 3ms/sample - loss: 0.2755 - acc: 0.9209 - val_loss: 0.2616 - val_acc: 0.9238\n",
            "Epoch 4/50\n",
            "2724/2724 [==============================] - 2s 570us/sample - loss: 0.2622 - acc: 0.9291\n",
            "10000/10000 [==============================] - 29s 3ms/sample - loss: 0.2200 - acc: 0.9330 - val_loss: 0.2532 - val_acc: 0.9262\n",
            "Epoch 5/50\n",
            "2724/2724 [==============================] - 2s 570us/sample - loss: 0.2551 - acc: 0.9299\n",
            "10000/10000 [==============================] - 29s 3ms/sample - loss: 0.1797 - acc: 0.9468 - val_loss: 0.2436 - val_acc: 0.9317\n",
            "Epoch 6/50\n",
            "2724/2724 [==============================] - 2s 579us/sample - loss: 0.2537 - acc: 0.9347\n",
            "10000/10000 [==============================] - 29s 3ms/sample - loss: 0.1534 - acc: 0.9544 - val_loss: 0.2441 - val_acc: 0.9315\n",
            "Epoch 7/50\n",
            "2724/2724 [==============================] - 2s 575us/sample - loss: 0.2533 - acc: 0.9321\n",
            "10000/10000 [==============================] - 29s 3ms/sample - loss: 0.1347 - acc: 0.9571 - val_loss: 0.2510 - val_acc: 0.9315\n",
            "Epoch 8/50\n",
            "2724/2724 [==============================] - 2s 576us/sample - loss: 0.2560 - acc: 0.9302\n",
            "10000/10000 [==============================] - 29s 3ms/sample - loss: 0.1104 - acc: 0.9665 - val_loss: 0.2442 - val_acc: 0.9343\n",
            "Epoch 9/50\n",
            "2724/2724 [==============================] - 2s 571us/sample - loss: 0.2675 - acc: 0.9295\n",
            "10000/10000 [==============================] - 29s 3ms/sample - loss: 0.1050 - acc: 0.9676 - val_loss: 0.2507 - val_acc: 0.9328\n",
            "Epoch 10/50\n",
            "2724/2724 [==============================] - 2s 572us/sample - loss: 0.2711 - acc: 0.9302\n",
            "10000/10000 [==============================] - 29s 3ms/sample - loss: 0.0919 - acc: 0.9729 - val_loss: 0.2562 - val_acc: 0.9365\n",
            "Epoch 11/50\n",
            "2724/2724 [==============================] - 2s 575us/sample - loss: 0.2772 - acc: 0.9321\n",
            "10000/10000 [==============================] - 29s 3ms/sample - loss: 0.0790 - acc: 0.9753 - val_loss: 0.2621 - val_acc: 0.9348\n",
            "Epoch 12/50\n",
            "2724/2724 [==============================] - 2s 552us/sample - loss: 0.2768 - acc: 0.9336\n",
            "10000/10000 [==============================] - 29s 3ms/sample - loss: 0.0750 - acc: 0.9754 - val_loss: 0.2648 - val_acc: 0.9352\n",
            "Epoch 13/50\n",
            "2724/2724 [==============================] - 2s 569us/sample - loss: 0.2801 - acc: 0.9325\n",
            "10000/10000 [==============================] - 29s 3ms/sample - loss: 0.0770 - acc: 0.9752 - val_loss: 0.2703 - val_acc: 0.9327\n",
            "Epoch 14/50\n",
            "2724/2724 [==============================] - 2s 586us/sample - loss: 0.2854 - acc: 0.9332\n",
            "10000/10000 [==============================] - 29s 3ms/sample - loss: 0.0668 - acc: 0.9789 - val_loss: 0.2700 - val_acc: 0.9357\n",
            "Epoch 15/50\n",
            "2724/2724 [==============================] - 2s 575us/sample - loss: 0.2773 - acc: 0.9347\n",
            "10000/10000 [==============================] - 29s 3ms/sample - loss: 0.0689 - acc: 0.9791 - val_loss: 0.2604 - val_acc: 0.9373\n",
            "Epoch 16/50\n",
            "2724/2724 [==============================] - 2s 571us/sample - loss: 0.2942 - acc: 0.9325\n",
            "10000/10000 [==============================] - 29s 3ms/sample - loss: 0.0652 - acc: 0.9813 - val_loss: 0.2748 - val_acc: 0.9365\n",
            "Epoch 17/50\n",
            "2724/2724 [==============================] - 2s 578us/sample - loss: 0.2990 - acc: 0.9328\n",
            "10000/10000 [==============================] - 29s 3ms/sample - loss: 0.0574 - acc: 0.9835 - val_loss: 0.2826 - val_acc: 0.9353\n",
            "Epoch 18/50\n",
            "2724/2724 [==============================] - 2s 571us/sample - loss: 0.3035 - acc: 0.9325\n",
            "10000/10000 [==============================] - 29s 3ms/sample - loss: 0.0533 - acc: 0.9846 - val_loss: 0.2879 - val_acc: 0.9372\n",
            "Epoch 19/50\n",
            "2724/2724 [==============================] - 2s 592us/sample - loss: 0.3086 - acc: 0.9332\n",
            "10000/10000 [==============================] - 29s 3ms/sample - loss: 0.0537 - acc: 0.9826 - val_loss: 0.2858 - val_acc: 0.9372\n",
            "Epoch 20/50\n",
            "2724/2724 [==============================] - 2s 584us/sample - loss: 0.3071 - acc: 0.9328\n",
            "10000/10000 [==============================] - 29s 3ms/sample - loss: 0.0496 - acc: 0.9848 - val_loss: 0.2879 - val_acc: 0.9377\n",
            "Epoch 21/50\n",
            "2724/2724 [==============================] - 2s 577us/sample - loss: 0.3226 - acc: 0.9339\n",
            "10000/10000 [==============================] - 29s 3ms/sample - loss: 0.0481 - acc: 0.9845 - val_loss: 0.2943 - val_acc: 0.9360\n",
            "Epoch 22/50\n",
            "2724/2724 [==============================] - 2s 555us/sample - loss: 0.3256 - acc: 0.9354\n",
            "10000/10000 [==============================] - 29s 3ms/sample - loss: 0.0403 - acc: 0.9882 - val_loss: 0.3016 - val_acc: 0.9362\n",
            "Epoch 23/50\n",
            "2724/2724 [==============================] - 2s 572us/sample - loss: 0.3132 - acc: 0.9354\n",
            "10000/10000 [==============================] - 29s 3ms/sample - loss: 0.0448 - acc: 0.9872 - val_loss: 0.2971 - val_acc: 0.9373\n",
            "Epoch 24/50\n",
            "2724/2724 [==============================] - 2s 571us/sample - loss: 0.3201 - acc: 0.9350\n",
            "10000/10000 [==============================] - 29s 3ms/sample - loss: 0.0447 - acc: 0.9859 - val_loss: 0.3054 - val_acc: 0.9370\n",
            "Epoch 25/50\n",
            "2724/2724 [==============================] - 2s 578us/sample - loss: 0.3262 - acc: 0.9336\n",
            "10000/10000 [==============================] - 29s 3ms/sample - loss: 0.0415 - acc: 0.9886 - val_loss: 0.3127 - val_acc: 0.9367\n",
            "Epoch 26/50\n",
            "2724/2724 [==============================] - 2s 567us/sample - loss: 0.3351 - acc: 0.9325\n",
            "10000/10000 [==============================] - 30s 3ms/sample - loss: 0.0399 - acc: 0.9884 - val_loss: 0.3187 - val_acc: 0.9348\n",
            "Epoch 27/50\n",
            "2724/2724 [==============================] - 2s 589us/sample - loss: 0.3269 - acc: 0.9394\n",
            "10000/10000 [==============================] - 29s 3ms/sample - loss: 0.0399 - acc: 0.9897 - val_loss: 0.3124 - val_acc: 0.9360\n",
            "Epoch 28/50\n",
            "2724/2724 [==============================] - 2s 559us/sample - loss: 0.3272 - acc: 0.9347\n",
            "10000/10000 [==============================] - 29s 3ms/sample - loss: 0.0350 - acc: 0.9903 - val_loss: 0.3158 - val_acc: 0.9362\n",
            "Epoch 29/50\n",
            "2724/2724 [==============================] - 2s 576us/sample - loss: 0.3421 - acc: 0.9358\n",
            "10000/10000 [==============================] - 29s 3ms/sample - loss: 0.0347 - acc: 0.9906 - val_loss: 0.3114 - val_acc: 0.9375\n",
            "Epoch 30/50\n",
            "2724/2724 [==============================] - 2s 574us/sample - loss: 0.3480 - acc: 0.9347\n",
            "10000/10000 [==============================] - 29s 3ms/sample - loss: 0.0330 - acc: 0.9901 - val_loss: 0.3257 - val_acc: 0.9378\n",
            "Epoch 31/50\n",
            "2724/2724 [==============================] - 2s 575us/sample - loss: 0.3300 - acc: 0.9350\n",
            "10000/10000 [==============================] - 29s 3ms/sample - loss: 0.0379 - acc: 0.9896 - val_loss: 0.3206 - val_acc: 0.9363\n",
            "Epoch 32/50\n",
            "2724/2724 [==============================] - 2s 572us/sample - loss: 0.3351 - acc: 0.9343\n",
            "10000/10000 [==============================] - 29s 3ms/sample - loss: 0.0363 - acc: 0.9906 - val_loss: 0.3208 - val_acc: 0.9363\n",
            "Epoch 33/50\n",
            "2724/2724 [==============================] - 2s 570us/sample - loss: 0.3507 - acc: 0.9339\n",
            "10000/10000 [==============================] - 29s 3ms/sample - loss: 0.0332 - acc: 0.9892 - val_loss: 0.3247 - val_acc: 0.9372\n",
            "Epoch 34/50\n",
            "2724/2724 [==============================] - 2s 577us/sample - loss: 0.3429 - acc: 0.9328\n",
            "10000/10000 [==============================] - 29s 3ms/sample - loss: 0.0336 - acc: 0.9909 - val_loss: 0.3156 - val_acc: 0.9380\n",
            "Epoch 35/50\n",
            "2724/2724 [==============================] - 2s 567us/sample - loss: 0.3502 - acc: 0.9336\n",
            "10000/10000 [==============================] - 29s 3ms/sample - loss: 0.0353 - acc: 0.9912 - val_loss: 0.3279 - val_acc: 0.9348\n",
            "Epoch 36/50\n",
            "2724/2724 [==============================] - 2s 592us/sample - loss: 0.3517 - acc: 0.9336\n",
            "10000/10000 [==============================] - 29s 3ms/sample - loss: 0.0248 - acc: 0.9937 - val_loss: 0.3390 - val_acc: 0.9355\n",
            "Epoch 37/50\n",
            "2724/2724 [==============================] - 2s 578us/sample - loss: 0.3495 - acc: 0.9339\n",
            "10000/10000 [==============================] - 29s 3ms/sample - loss: 0.0253 - acc: 0.9924 - val_loss: 0.3386 - val_acc: 0.9362\n",
            "Epoch 38/50\n",
            "2724/2724 [==============================] - 2s 565us/sample - loss: 0.3590 - acc: 0.9380\n",
            "10000/10000 [==============================] - 29s 3ms/sample - loss: 0.0262 - acc: 0.9930 - val_loss: 0.3494 - val_acc: 0.9387\n",
            "Epoch 39/50\n",
            "2724/2724 [==============================] - 2s 579us/sample - loss: 0.3681 - acc: 0.9365\n",
            "10000/10000 [==============================] - 29s 3ms/sample - loss: 0.0266 - acc: 0.9929 - val_loss: 0.3479 - val_acc: 0.9362\n",
            "Epoch 40/50\n",
            "2724/2724 [==============================] - 2s 586us/sample - loss: 0.3555 - acc: 0.9343\n",
            "10000/10000 [==============================] - 29s 3ms/sample - loss: 0.0326 - acc: 0.9912 - val_loss: 0.3362 - val_acc: 0.9373\n",
            "Epoch 41/50\n",
            "2724/2724 [==============================] - 2s 563us/sample - loss: 0.3679 - acc: 0.9332\n",
            "10000/10000 [==============================] - 29s 3ms/sample - loss: 0.0224 - acc: 0.9936 - val_loss: 0.3391 - val_acc: 0.9375\n",
            "Epoch 42/50\n",
            "2724/2724 [==============================] - 2s 574us/sample - loss: 0.3756 - acc: 0.9350\n",
            "10000/10000 [==============================] - 29s 3ms/sample - loss: 0.0230 - acc: 0.9931 - val_loss: 0.3505 - val_acc: 0.9378\n",
            "Epoch 43/50\n",
            "2724/2724 [==============================] - 2s 573us/sample - loss: 0.3731 - acc: 0.9343\n",
            "10000/10000 [==============================] - 29s 3ms/sample - loss: 0.0271 - acc: 0.9930 - val_loss: 0.3468 - val_acc: 0.9368\n",
            "Epoch 44/50\n",
            "2724/2724 [==============================] - 2s 567us/sample - loss: 0.3732 - acc: 0.9336\n",
            "10000/10000 [==============================] - 29s 3ms/sample - loss: 0.0249 - acc: 0.9934 - val_loss: 0.3469 - val_acc: 0.9368\n",
            "Epoch 45/50\n",
            "2724/2724 [==============================] - 2s 576us/sample - loss: 0.3835 - acc: 0.9336\n",
            "10000/10000 [==============================] - 29s 3ms/sample - loss: 0.0218 - acc: 0.9938 - val_loss: 0.3596 - val_acc: 0.9358\n",
            "Epoch 46/50\n",
            "2724/2724 [==============================] - 2s 575us/sample - loss: 0.3984 - acc: 0.9332\n",
            "10000/10000 [==============================] - 29s 3ms/sample - loss: 0.0208 - acc: 0.9949 - val_loss: 0.3743 - val_acc: 0.9367\n",
            "Epoch 47/50\n",
            "2724/2724 [==============================] - 2s 579us/sample - loss: 0.3975 - acc: 0.9314\n",
            "10000/10000 [==============================] - 29s 3ms/sample - loss: 0.0229 - acc: 0.9935 - val_loss: 0.3749 - val_acc: 0.9357\n",
            "Epoch 48/50\n",
            "2724/2724 [==============================] - 2s 582us/sample - loss: 0.3842 - acc: 0.9332\n",
            "10000/10000 [==============================] - 29s 3ms/sample - loss: 0.0188 - acc: 0.9943 - val_loss: 0.3666 - val_acc: 0.9350\n",
            "Epoch 49/50\n",
            "2724/2724 [==============================] - 2s 571us/sample - loss: 0.3815 - acc: 0.9358\n",
            "10000/10000 [==============================] - 29s 3ms/sample - loss: 0.0202 - acc: 0.9942 - val_loss: 0.3752 - val_acc: 0.9355\n",
            "Epoch 50/50\n",
            "2724/2724 [==============================] - 2s 584us/sample - loss: 0.3987 - acc: 0.9354\n",
            "10000/10000 [==============================] - 29s 3ms/sample - loss: 0.0190 - acc: 0.9956 - val_loss: 0.3851 - val_acc: 0.9350\n"
          ],
          "name": "stdout"
        },
        {
          "output_type": "execute_result",
          "data": {
            "text/plain": [
              "<tensorflow.python.keras.callbacks.History at 0x7f2877c996d8>"
            ]
          },
          "metadata": {
            "tags": []
          },
          "execution_count": 38
        }
      ]
    },
    {
      "cell_type": "code",
      "metadata": {
        "id": "vBpTwpzraDEC",
        "colab_type": "code",
        "outputId": "621f4523-567c-47fa-9b4c-7c22bb2a86ea",
        "colab": {
          "base_uri": "https://localhost:8080/",
          "height": 295
        }
      },
      "source": [
        "# Plotting the training, validation, and test losses:\n",
        "\n",
        "plt.plot(history.history['loss'], label='Training Loss')\n",
        "plt.plot(history.history['val_loss'], label='Validation Loss')\n",
        "plt.plot(history.history['test_loss'], label='Test Loss')\n",
        "plt.xlabel('Epoch')\n",
        "plt.ylabel('Loss')\n",
        "plt.ylim(0, 1)\n",
        "plt.title('Training, Validation, and Testing Losses of CNN w/ 0.75 Dropout')\n",
        "plt.legend()\n",
        "plt.show()"
      ],
      "execution_count": 0,
      "outputs": [
        {
          "output_type": "display_data",
          "data": {
            "image/png": "[encoded data removed]",
            "text/plain": [
              "<Figure size 432x288 with 1 Axes>"
            ]
          },
          "metadata": {
            "tags": []
          }
        }
      ]
    },
    {
      "cell_type": "code",
      "metadata": {
        "id": "o6qt_k1rqQMa",
        "colab_type": "code",
        "outputId": "1943f5ba-d12f-4491-bf9d-8a124cd7c503",
        "colab": {
          "base_uri": "https://localhost:8080/",
          "height": 295
        }
      },
      "source": [
        "# Plotting the training, validation, and test accuracy:\n",
        "\n",
        "plt.plot(history.history['acc'], label='Training Accuracy')\n",
        "plt.plot(history.history['val_acc'], label='Validation Accuracy')\n",
        "plt.plot(history.history['test_accuracy'], label='Test Accuracy')\n",
        "plt.xlabel('Epoch')\n",
        "plt.ylabel('Accuracy')\n",
        "plt.ylim(0.5, 1)\n",
        "plt.title('Training, Validation, and Testing Accuracies of CNN w/ 0.75 Dropout')\n",
        "plt.legend()\n",
        "plt.show()"
      ],
      "execution_count": 0,
      "outputs": [
        {
          "output_type": "display_data",
          "data": {
            "image/png": "[encoded data removed]",
            "text/plain": [
              "<Figure size 432x288 with 1 Axes>"
            ]
          },
          "metadata": {
            "tags": []
          }
        }
      ]
    },
    {
      "cell_type": "code",
      "metadata": {
        "id": "MAFoOc5YF64U",
        "colab_type": "code",
        "colab": {}
      },
      "source": [
        ""
      ],
      "execution_count": 0,
      "outputs": []
    }
  ]
}